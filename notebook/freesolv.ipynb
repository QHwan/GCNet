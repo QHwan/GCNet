{
 "cells": [
  {
   "cell_type": "code",
   "execution_count": 28,
   "metadata": {},
   "outputs": [],
   "source": [
    "import numpy as np\n",
    "import pandas as pd\n",
    "import matplotlib.pyplot as plt\n",
    "from collections import Counter\n",
    "import torch\n",
    "\n",
    "from rdkit import Chem\n",
    "from rdkit.Chem import Draw\n",
    "from rdkit.Chem.rdmolops import GetAdjacencyMatrix"
   ]
  },
  {
   "cell_type": "code",
   "execution_count": 29,
   "metadata": {},
   "outputs": [],
   "source": [
    "df = pd.read_csv('../data/dataset/freesolv.csv')"
   ]
  },
  {
   "cell_type": "code",
   "execution_count": 30,
   "metadata": {},
   "outputs": [
    {
     "data": {
      "text/plain": [
       "Index(['iupac', 'smiles', 'expt', 'calc'], dtype='object')"
      ]
     },
     "execution_count": 30,
     "metadata": {},
     "output_type": "execute_result"
    }
   ],
   "source": [
    "df.columns"
   ]
  },
  {
   "cell_type": "code",
   "execution_count": 31,
   "metadata": {},
   "outputs": [
    {
     "data": {
      "text/html": [
       "<div>\n",
       "<style scoped>\n",
       "    .dataframe tbody tr th:only-of-type {\n",
       "        vertical-align: middle;\n",
       "    }\n",
       "\n",
       "    .dataframe tbody tr th {\n",
       "        vertical-align: top;\n",
       "    }\n",
       "\n",
       "    .dataframe thead th {\n",
       "        text-align: right;\n",
       "    }\n",
       "</style>\n",
       "<table border=\"1\" class=\"dataframe\">\n",
       "  <thead>\n",
       "    <tr style=\"text-align: right;\">\n",
       "      <th></th>\n",
       "      <th>iupac</th>\n",
       "      <th>smiles</th>\n",
       "      <th>expt</th>\n",
       "      <th>calc</th>\n",
       "    </tr>\n",
       "  </thead>\n",
       "  <tbody>\n",
       "    <tr>\n",
       "      <th>0</th>\n",
       "      <td>4-methoxy-N,N-dimethyl-benzamide</td>\n",
       "      <td>CN(C)C(=O)c1ccc(cc1)OC</td>\n",
       "      <td>-11.01</td>\n",
       "      <td>-9.625</td>\n",
       "    </tr>\n",
       "    <tr>\n",
       "      <th>1</th>\n",
       "      <td>methanesulfonyl chloride</td>\n",
       "      <td>CS(=O)(=O)Cl</td>\n",
       "      <td>-4.87</td>\n",
       "      <td>-6.219</td>\n",
       "    </tr>\n",
       "    <tr>\n",
       "      <th>2</th>\n",
       "      <td>3-methylbut-1-ene</td>\n",
       "      <td>CC(C)C=C</td>\n",
       "      <td>1.83</td>\n",
       "      <td>2.452</td>\n",
       "    </tr>\n",
       "    <tr>\n",
       "      <th>3</th>\n",
       "      <td>2-ethylpyrazine</td>\n",
       "      <td>CCc1cnccn1</td>\n",
       "      <td>-5.45</td>\n",
       "      <td>-5.809</td>\n",
       "    </tr>\n",
       "    <tr>\n",
       "      <th>4</th>\n",
       "      <td>heptan-1-ol</td>\n",
       "      <td>CCCCCCCO</td>\n",
       "      <td>-4.21</td>\n",
       "      <td>-2.917</td>\n",
       "    </tr>\n",
       "  </tbody>\n",
       "</table>\n",
       "</div>"
      ],
      "text/plain": [
       "                              iupac                  smiles   expt   calc\n",
       "0  4-methoxy-N,N-dimethyl-benzamide  CN(C)C(=O)c1ccc(cc1)OC -11.01 -9.625\n",
       "1          methanesulfonyl chloride            CS(=O)(=O)Cl  -4.87 -6.219\n",
       "2                 3-methylbut-1-ene                CC(C)C=C   1.83  2.452\n",
       "3                   2-ethylpyrazine              CCc1cnccn1  -5.45 -5.809\n",
       "4                       heptan-1-ol                CCCCCCCO  -4.21 -2.917"
      ]
     },
     "execution_count": 31,
     "metadata": {},
     "output_type": "execute_result"
    }
   ],
   "source": [
    "df.head()"
   ]
  },
  {
   "cell_type": "code",
   "execution_count": 33,
   "metadata": {},
   "outputs": [
    {
     "name": "stdout",
     "output_type": "stream",
     "text": [
      "COC(=O)C1CC1\n"
     ]
    }
   ],
   "source": [
    "smiles = df['smiles']\n",
    "print(smiles.iloc[23])"
   ]
  },
  {
   "cell_type": "code",
   "execution_count": 34,
   "metadata": {},
   "outputs": [
    {
     "data": {
      "image/png": "[encoded data removed]",
      "text/plain": [
       "<Figure size 86.4x86.4 with 1 Axes>"
      ]
     },
     "metadata": {
      "needs_background": "light"
     },
     "output_type": "display_data"
    }
   ],
   "source": [
    "smiles = df['smiles']\n",
    "m = Chem.MolFromSmiles(smiles.iloc[23])\n",
    "fig = Draw.MolToMPL(m, size=(120, 120))"
   ]
  },
  {
   "cell_type": "code",
   "execution_count": 15,
   "metadata": {},
   "outputs": [
    {
     "name": "stdout",
     "output_type": "stream",
     "text": [
      "4\n"
     ]
    }
   ],
   "source": [
    "all_atom_names = []\n",
    "all_hydrogens = []\n",
    "\n",
    "for i, smile in enumerate(smiles):\n",
    "    m = Chem.MolFromSmiles(smile)\n",
    "    atom_names = [a.GetSymbol() for a in m.GetAtoms()]\n",
    "    hydrogens = [a.GetImplicitValence() for a in m.GetAtoms()]\n",
    "    all_atom_names += atom_names\n",
    "    all_hydrogens += hydrogens\n",
    "    \n",
    "atom_dict = {}\n",
    "for i, a in enumerate(list(Counter(all_atom_names))):\n",
    "    atom_dict[a] = i\n",
    "    \n",
    "max_hydrogen = max(Counter(all_hydrogens).keys())"
   ]
  },
  {
   "cell_type": "code",
   "execution_count": 25,
   "metadata": {},
   "outputs": [],
   "source": [
    "node_data = []\n",
    "adj_data = []\n",
    "target_data = []\n",
    "\n",
    "expt = df['expt']\n",
    "\n",
    "for i, smile in enumerate(smiles):\n",
    "    m = Chem.MolFromSmiles(smile)\n",
    "    atom_names = [a.GetSymbol() for a in m.GetAtoms()]\n",
    "    hydrogen_nums = [a.GetImplicitValence() for a in m.GetAtoms()]\n",
    "    \n",
    "    node = []\n",
    "    for j, (a, h) in enumerate(zip(atom_names, hydrogen_nums)):\n",
    "        node_atom_names = np.zeros(len(atom_dict))\n",
    "        node_hydrogens = np.zeros(max_hydrogen+1)\n",
    "        \n",
    "        node_atom_names[atom_dict[a]] += 1\n",
    "        node_hydrogens[h] += 1\n",
    "        node.append(node_atom_names)\n",
    "    node = np.array(node)\n",
    "        \n",
    "    adj = GetAdjacencyMatrix(m)\n",
    "    \n",
    "    node_data.append(torch.from_numpy(node).float())\n",
    "    adj_data.append(torch.from_numpy(adj + np.eye(len(adj))).float())\n",
    "    target_data.append(torch.FloatTensor([expt[i]]))"
   ]
  },
  {
   "cell_type": "code",
   "execution_count": 26,
   "metadata": {},
   "outputs": [],
   "source": [
    "dataset = []\n",
    "dataset.append(node_data)\n",
    "dataset.append(adj_data)\n",
    "dataset.append(target_data)"
   ]
  },
  {
   "cell_type": "code",
   "execution_count": 27,
   "metadata": {},
   "outputs": [],
   "source": [
    "torch.save(dataset, '../dataset/freesolv.pt')"
   ]
  },
  {
   "cell_type": "code",
   "execution_count": null,
   "metadata": {},
   "outputs": [],
   "source": []
  }
 ],
 "metadata": {
  "kernelspec": {
   "display_name": "Python 3",
   "language": "python",
   "name": "python3"
  },
  "language_info": {
   "codemirror_mode": {
    "name": "ipython",
    "version": 3
   },
   "file_extension": ".py",
   "mimetype": "text/x-python",
   "name": "python",
   "nbconvert_exporter": "python",
   "pygments_lexer": "ipython3",
   "version": "3.7.6"
  }
 },
 "nbformat": 4,
 "nbformat_minor": 4
}
