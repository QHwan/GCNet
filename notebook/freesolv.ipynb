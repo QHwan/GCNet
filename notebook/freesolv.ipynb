{
 "cells": [
  {
   "cell_type": "code",
   "execution_count": 1,
   "metadata": {},
   "outputs": [],
   "source": [
    "import numpy as np\n",
    "import pandas as pd\n",
    "import matplotlib.pyplot as plt\n",
    "from collections import Counter\n",
    "import torch\n",
    "\n",
    "from rdkit import Chem\n",
    "from rdkit.Chem import Draw\n",
    "from rdkit.Chem.rdmolops import GetAdjacencyMatrix"
   ]
  },
  {
   "cell_type": "code",
   "execution_count": 9,
   "metadata": {},
   "outputs": [],
   "source": [
    "df = pd.read_csv('../data/dataset/lipophilicity.csv')"
   ]
  },
  {
   "cell_type": "code",
<<<<<<< HEAD
   "execution_count": 10,
=======
   "execution_count": 3,
>>>>>>> 7f04a9070527c4e52040ad48cad2559b7ba95769
   "metadata": {},
   "outputs": [
    {
     "data": {
      "text/plain": [
       "Index(['CMPD_CHEMBLID', 'exp', 'smiles'], dtype='object')"
      ]
     },
<<<<<<< HEAD
     "execution_count": 10,
=======
     "execution_count": 3,
>>>>>>> 7f04a9070527c4e52040ad48cad2559b7ba95769
     "metadata": {},
     "output_type": "execute_result"
    }
   ],
   "source": [
    "df.columns"
   ]
  },
  {
   "cell_type": "code",
<<<<<<< HEAD
   "execution_count": 12,
=======
   "execution_count": 4,
>>>>>>> 7f04a9070527c4e52040ad48cad2559b7ba95769
   "metadata": {},
   "outputs": [
    {
     "data": {
      "text/html": [
       "<div>\n",
       "<style scoped>\n",
       "    .dataframe tbody tr th:only-of-type {\n",
       "        vertical-align: middle;\n",
       "    }\n",
       "\n",
       "    .dataframe tbody tr th {\n",
       "        vertical-align: top;\n",
       "    }\n",
       "\n",
       "    .dataframe thead th {\n",
       "        text-align: right;\n",
       "    }\n",
       "</style>\n",
       "<table border=\"1\" class=\"dataframe\">\n",
       "  <thead>\n",
       "    <tr style=\"text-align: right;\">\n",
       "      <th></th>\n",
       "      <th>CMPD_CHEMBLID</th>\n",
       "      <th>exp</th>\n",
       "      <th>smiles</th>\n",
       "    </tr>\n",
       "  </thead>\n",
       "  <tbody>\n",
       "    <tr>\n",
       "      <th>0</th>\n",
       "      <td>CHEMBL596271</td>\n",
       "      <td>3.54</td>\n",
       "      <td>Cn1c(CN2CCN(CC2)c3ccc(Cl)cc3)nc4ccccc14</td>\n",
       "    </tr>\n",
       "    <tr>\n",
       "      <th>1</th>\n",
       "      <td>CHEMBL1951080</td>\n",
       "      <td>-1.18</td>\n",
       "      <td>COc1cc(OC)c(cc1NC(=O)CSCC(=O)O)S(=O)(=O)N2C(C)...</td>\n",
       "    </tr>\n",
       "    <tr>\n",
       "      <th>2</th>\n",
       "      <td>CHEMBL1771</td>\n",
       "      <td>3.69</td>\n",
       "      <td>COC(=O)[C@@H](N1CCc2sccc2C1)c3ccccc3Cl</td>\n",
       "    </tr>\n",
       "    <tr>\n",
       "      <th>3</th>\n",
       "      <td>CHEMBL234951</td>\n",
       "      <td>3.37</td>\n",
       "      <td>OC[C@H](O)CN1C(=O)C(Cc2ccccc12)NC(=O)c3cc4cc(C...</td>\n",
       "    </tr>\n",
       "    <tr>\n",
       "      <th>4</th>\n",
       "      <td>CHEMBL565079</td>\n",
       "      <td>3.10</td>\n",
       "      <td>Cc1cccc(C[C@H](NC(=O)c2cc(nn2C)C(C)(C)C)C(=O)N...</td>\n",
       "    </tr>\n",
       "  </tbody>\n",
       "</table>\n",
       "</div>"
      ],
      "text/plain": [
       "   CMPD_CHEMBLID   exp                                             smiles\n",
       "0   CHEMBL596271  3.54            Cn1c(CN2CCN(CC2)c3ccc(Cl)cc3)nc4ccccc14\n",
       "1  CHEMBL1951080 -1.18  COc1cc(OC)c(cc1NC(=O)CSCC(=O)O)S(=O)(=O)N2C(C)...\n",
       "2     CHEMBL1771  3.69             COC(=O)[C@@H](N1CCc2sccc2C1)c3ccccc3Cl\n",
       "3   CHEMBL234951  3.37  OC[C@H](O)CN1C(=O)C(Cc2ccccc12)NC(=O)c3cc4cc(C...\n",
       "4   CHEMBL565079  3.10  Cc1cccc(C[C@H](NC(=O)c2cc(nn2C)C(C)(C)C)C(=O)N..."
      ]
     },
<<<<<<< HEAD
     "execution_count": 12,
=======
     "execution_count": 4,
>>>>>>> 7f04a9070527c4e52040ad48cad2559b7ba95769
     "metadata": {},
     "output_type": "execute_result"
    }
   ],
   "source": [
    "df.head()"
   ]
  },
  {
   "cell_type": "code",
   "execution_count": 8,
   "metadata": {},
   "outputs": [
    {
     "name": "stdout",
     "output_type": "stream",
     "text": [
      "O.O.O.CC(=O)O[C@@]12CO[C@@H]1C[C@H](O)[C@]3(C)[C@@H]2[C@H](OC(=O)c4ccccc4)[C@]5(O)C[C@H](OC(=O)[C@H](O)[C@@H](NC(=O)OC(C)(C)C)c6ccccc6)C(=C([C@@H](O)C3=O)C5(C)C)C\n"
     ]
    }
   ],
   "source": [
    "smiles = df['smiles']\n",
    "print(smiles.iloc[1646])"
   ]
  },
  {
   "cell_type": "code",
   "execution_count": 27,
   "metadata": {},
   "outputs": [
    {
     "data": {
<<<<<<< HEAD
      "image/png": "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\n",
=======
      "image/png": "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\n",
>>>>>>> 7f04a9070527c4e52040ad48cad2559b7ba95769
      "text/plain": [
       "<Figure size 86.4x86.4 with 1 Axes>"
      ]
     },
     "metadata": {
      "needs_background": "light"
     },
     "output_type": "display_data"
    }
   ],
   "source": [
    "smiles = df['smiles']\n",
<<<<<<< HEAD
    "m = Chem.MolFromSmiles(smiles.iloc[1646])\n",
=======
    "m = Chem.MolFromSmiles(smiles.iloc[27])\n",
>>>>>>> 7f04a9070527c4e52040ad48cad2559b7ba95769
    "fig = Draw.MolToMPL(m, size=(120, 120))"
   ]
  },
  {
   "cell_type": "code",
   "execution_count": 15,
   "metadata": {},
   "outputs": [
    {
     "name": "stdout",
     "output_type": "stream",
     "text": [
      "4\n"
     ]
    }
   ],
   "source": [
    "all_atom_names = []\n",
    "all_hydrogens = []\n",
    "\n",
    "for i, smile in enumerate(smiles):\n",
    "    m = Chem.MolFromSmiles(smile)\n",
    "    atom_names = [a.GetSymbol() for a in m.GetAtoms()]\n",
    "    hydrogens = [a.GetImplicitValence() for a in m.GetAtoms()]\n",
    "    all_atom_names += atom_names\n",
    "    all_hydrogens += hydrogens\n",
    "    \n",
    "atom_dict = {}\n",
    "for i, a in enumerate(list(Counter(all_atom_names))):\n",
    "    atom_dict[a] = i\n",
    "    \n",
    "max_hydrogen = max(Counter(all_hydrogens).keys())"
   ]
  },
  {
   "cell_type": "code",
   "execution_count": 25,
   "metadata": {},
   "outputs": [],
   "source": [
    "node_data = []\n",
    "adj_data = []\n",
    "target_data = []\n",
    "\n",
    "expt = df['expt']\n",
    "\n",
    "for i, smile in enumerate(smiles):\n",
    "    m = Chem.MolFromSmiles(smile)\n",
    "    atom_names = [a.GetSymbol() for a in m.GetAtoms()]\n",
    "    hydrogen_nums = [a.GetImplicitValence() for a in m.GetAtoms()]\n",
    "    \n",
    "    node = []\n",
    "    for j, (a, h) in enumerate(zip(atom_names, hydrogen_nums)):\n",
    "        node_atom_names = np.zeros(len(atom_dict))\n",
    "        node_hydrogens = np.zeros(max_hydrogen+1)\n",
    "        \n",
    "        node_atom_names[atom_dict[a]] += 1\n",
    "        node_hydrogens[h] += 1\n",
    "        node.append(node_atom_names)\n",
    "    node = np.array(node)\n",
    "        \n",
    "    adj = GetAdjacencyMatrix(m)\n",
    "    \n",
    "    node_data.append(torch.from_numpy(node).float())\n",
    "    adj_data.append(torch.from_numpy(adj + np.eye(len(adj))).float())\n",
    "    target_data.append(torch.FloatTensor([expt[i]]))"
   ]
  },
  {
   "cell_type": "code",
   "execution_count": 26,
   "metadata": {},
   "outputs": [],
   "source": [
    "dataset = []\n",
    "dataset.append(node_data)\n",
    "dataset.append(adj_data)\n",
    "dataset.append(target_data)"
   ]
  },
  {
   "cell_type": "code",
   "execution_count": 27,
   "metadata": {},
   "outputs": [],
   "source": [
    "torch.save(dataset, '../dataset/freesolv.pt')"
   ]
  },
  {
   "cell_type": "code",
   "execution_count": null,
   "metadata": {},
   "outputs": [],
   "source": []
  }
 ],
 "metadata": {
  "kernelspec": {
   "display_name": "Python 3",
   "language": "python",
   "name": "python3"
  },
  "language_info": {
   "codemirror_mode": {
    "name": "ipython",
    "version": 3
   },
   "file_extension": ".py",
   "mimetype": "text/x-python",
   "name": "python",
   "nbconvert_exporter": "python",
   "pygments_lexer": "ipython3",
   "version": "3.7.6"
  }
 },
 "nbformat": 4,
 "nbformat_minor": 4
}
